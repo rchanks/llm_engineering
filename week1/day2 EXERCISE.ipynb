{
 "cells": [
  {
   "cell_type": "markdown",
   "id": "d15d8294-3328-4e07-ad16-8a03e9bbfdb9",
   "metadata": {},
   "source": [
    "# Welcome to your first assignment!\n",
    "\n",
    "Instructions are below. Please give this a try, and look in the solutions folder if you get stuck (or feel free to ask me!)"
   ]
  },
  {
   "cell_type": "markdown",
   "id": "ada885d9-4d42-4d9b-97f0-74fbbbfe93a9",
   "metadata": {},
   "source": [
    "<table style=\"margin: 0; text-align: left;\">\n",
    "    <tr>\n",
    "        <td style=\"width: 150px; height: 150px; vertical-align: middle;\">\n",
    "            <img src=\"../resources.jpg\" width=\"150\" height=\"150\" style=\"display: block;\" />\n",
    "        </td>\n",
    "        <td>\n",
    "            <h2 style=\"color:#f71;\">Just before we get to the assignment --</h2>\n",
    "            <span style=\"color:#f71;\">I thought I'd take a second to point you at this page of useful resources for the course. This includes links to all the slides.<br/>\n",
    "            <a href=\"https://edwarddonner.com/2024/11/13/llm-engineering-resources/\">https://edwarddonner.com/2024/11/13/llm-engineering-resources/</a><br/>\n",
    "            Please keep this bookmarked, and I'll continue to add more useful links there over time.\n",
    "            </span>\n",
    "        </td>\n",
    "    </tr>\n",
    "</table>"
   ]
  },
  {
   "cell_type": "markdown",
   "id": "6e9fa1fc-eac5-4d1d-9be4-541b3f2b3458",
   "metadata": {},
   "source": [
    "# HOMEWORK EXERCISE ASSIGNMENT\n",
    "\n",
    "Upgrade the day 1 project to summarize a webpage to use an Open Source model running locally via Ollama rather than OpenAI\n",
    "\n",
    "You'll be able to use this technique for all subsequent projects if you'd prefer not to use paid APIs.\n",
    "\n",
    "**Benefits:**\n",
    "1. No API charges - open-source\n",
    "2. Data doesn't leave your box\n",
    "\n",
    "**Disadvantages:**\n",
    "1. Significantly less power than Frontier Model\n",
    "\n",
    "## Recap on installation of Ollama\n",
    "\n",
    "Simply visit [ollama.com](https://ollama.com) and install!\n",
    "\n",
    "Once complete, the ollama server should already be running locally.  \n",
    "If you visit:  \n",
    "[http://localhost:11434/](http://localhost:11434/)\n",
    "\n",
    "You should see the message `Ollama is running`.  \n",
    "\n",
    "If not, bring up a new Terminal (Mac) or Powershell (Windows) and enter `ollama serve`  \n",
    "And in another Terminal (Mac) or Powershell (Windows), enter `ollama pull llama3.2`  \n",
    "Then try [http://localhost:11434/](http://localhost:11434/) again.\n",
    "\n",
    "If Ollama is slow on your machine, try using `llama3.2:1b` as an alternative. Run `ollama pull llama3.2:1b` from a Terminal or Powershell, and change the code below from `MODEL = \"llama3.2\"` to `MODEL = \"llama3.2:1b\"`"
   ]
  },
  {
   "cell_type": "code",
   "execution_count": 1,
   "id": "4e2a9393-7767-488e-a8bf-27c12dca35bd",
   "metadata": {},
   "outputs": [],
   "source": [
    "# imports\n",
    "\n",
    "import requests\n",
    "from bs4 import BeautifulSoup\n",
    "from IPython.display import Markdown, display"
   ]
  },
  {
   "cell_type": "code",
   "execution_count": 2,
   "id": "29ddd15d-a3c5-4f4e-a678-873f56162724",
   "metadata": {},
   "outputs": [],
   "source": [
    "# Constants\n",
    "\n",
    "OLLAMA_API = \"http://localhost:11434/api/chat\"\n",
    "HEADERS = {\"Content-Type\": \"application/json\"}\n",
    "MODEL = \"llama3.2\""
   ]
  },
  {
   "cell_type": "code",
   "execution_count": 4,
   "id": "dac0a679-599c-441f-9bf2-ddc73d35b940",
   "metadata": {},
   "outputs": [],
   "source": [
    "# Create a messages list using the same format that we used for OpenAI\n",
    "\n",
    "messages = [\n",
    "    {\"role\": \"user\", \"content\": \"Describe some of the business applications of Generative AI\"}\n",
    "]"
   ]
  },
  {
   "cell_type": "code",
   "execution_count": 4,
   "id": "7bb9c624-14f0-4945-a719-8ddb64f66f47",
   "metadata": {},
   "outputs": [],
   "source": [
    "payload = {\n",
    "        \"model\": MODEL,\n",
    "        \"messages\": messages,\n",
    "        \"stream\": False\n",
    "    }"
   ]
  },
  {
   "cell_type": "code",
   "execution_count": 6,
   "id": "42b9f644-522d-4e05-a691-56e7658c0ea9",
   "metadata": {},
   "outputs": [
    {
     "name": "stdout",
     "output_type": "stream",
     "text": [
      "Generative AI has numerous business applications across various industries, including:\n",
      "\n",
      "1. **Content Generation**: Generative AI can be used to generate high-quality content such as articles, blog posts, social media posts, and product descriptions, saving time and resources for content creators.\n",
      "2. **Product Design and Prototyping**: Generative AI can help designers create new product concepts, prototypes, and visualizations, streamlining the design process and reducing costs.\n",
      "3. **Marketing and Advertising**: Generative AI can be used to create personalized marketing campaigns, product recommendations, and ad creative, increasing engagement and conversion rates.\n",
      "4. **Customer Service and Support**: Generative AI-powered chatbots can help businesses provide 24/7 customer support, answering common queries and routing complex issues to human representatives.\n",
      "5. **Data Analysis and Insights**: Generative AI can analyze large datasets, identifying patterns and trends that may not be visible to human analysts, providing valuable insights for business decision-making.\n",
      "6. **Predictive Maintenance and Quality Control**: Generative AI can predict equipment failures, reducing downtime and increasing overall efficiency in manufacturing, logistics, and other industries.\n",
      "7. **Image and Video Generation**: Generative AI can create realistic images and videos for applications such as advertising, entertainment, and training simulations.\n",
      "8. **Speech Synthesis and Translation**: Generative AI-powered speech synthesis tools can help businesses create more natural-sounding automated voices, while translation tools can facilitate global communication and collaboration.\n",
      "9. **Financial Modeling and Risk Analysis**: Generative AI can analyze large datasets to predict market trends, identify potential risks, and optimize investment strategies.\n",
      "10. **Supply Chain Optimization**: Generative AI can optimize supply chain operations by predicting demand, identifying bottlenecks, and suggesting more efficient routes for transportation and logistics.\n",
      "\n",
      "Some examples of businesses that are already leveraging generative AI include:\n",
      "\n",
      "* **Amazon**: Uses generative AI to personalize product recommendations and generate customer reviews\n",
      "* **Microsoft**: Develops generative AI-powered tools for content creation, such as the \"Paint\" tool in Windows 10\n",
      "* **Hewlett Packard Enterprise**: Uses generative AI to optimize supply chain operations and predict equipment failures\n",
      "* **Nike**: Employs generative AI to design new products and visualize product prototypes\n",
      "* **Accenture**: Develops generative AI-powered tools for content generation, such as the \"Content Generation\" platform\n",
      "\n",
      "These are just a few examples of the many businesses that are exploring the potential of generative AI to drive innovation and growth.\n"
     ]
    }
   ],
   "source": [
    "response = requests.post(OLLAMA_API, json=payload, headers=HEADERS)\n",
    "print(response.json()['message']['content'])"
   ]
  },
  {
   "cell_type": "markdown",
   "id": "6a021f13-d6a1-4b96-8e18-4eae49d876fe",
   "metadata": {},
   "source": [
    "# Introducing the ollama package\n",
    "\n",
    "And now we'll do the same thing, but using the elegant ollama python package instead of a direct HTTP call.\n",
    "\n",
    "Under the hood, it's making the same call as above to the ollama server running at localhost:11434"
   ]
  },
  {
   "cell_type": "code",
   "execution_count": 5,
   "id": "7745b9c4-57dc-4867-9180-61fa5db55eb8",
   "metadata": {},
   "outputs": [
    {
     "name": "stdout",
     "output_type": "stream",
     "text": [
      "Generative AI has numerous business applications across various industries, including:\n",
      "\n",
      "1. **Content Creation**: Generative AI can be used to generate high-quality content such as blog posts, social media posts, product descriptions, and more. This can save time and resources for content creators and marketers.\n",
      "2. **Digital Marketing**: Generative AI can help create personalized marketing messages, product recommendations, and ad copy that resonates with individual customers.\n",
      "3. **E-commerce**: Generative AI can be used to generate product images, 3D models, and virtual try-on experiences, enhancing the online shopping experience for customers.\n",
      "4. **Customer Service**: Generative AI-powered chatbots can provide 24/7 customer support, answering common queries and routing complex issues to human representatives.\n",
      "5. **Product Design**: Generative AI can aid in designing new products by generating concepts, prototypes, and visualizations, reducing the need for expensive product development and testing processes.\n",
      "6. **Data Analysis**: Generative AI can be used to analyze large datasets, identify patterns, and make predictions, helping businesses gain insights and make data-driven decisions.\n",
      "7. **Predictive Maintenance**: Generative AI can help predict equipment failures, maintenance needs, and optimize maintenance schedules, reducing downtime and increasing efficiency for industries like manufacturing and energy.\n",
      "8. **Personalized Recommendations**: Generative AI can generate personalized product recommendations based on customer behavior, preferences, and purchase history.\n",
      "9. **Video Production**: Generative AI can be used to create high-quality videos, such as explainer videos, product demos, and social media content, reducing production costs and time.\n",
      "10. **Language Translation**: Generative AI-powered translation tools can help businesses communicate with customers across languages, cultures, and geographic regions.\n",
      "\n",
      "Some specific business use cases for generative AI include:\n",
      "\n",
      "* **Netflix's recommendation engine**, which uses generative AI to suggest personalized content recommendations based on user behavior and preferences.\n",
      "* **Microsoft's Azure Machine Learning**, which provides a platform for building, training, and deploying machine learning models, including those that utilize generative AI.\n",
      "* **Amazon's product images**, which use generative AI to create high-quality product images that help customers visualize products before making a purchase.\n",
      "\n",
      "These are just a few examples of the many business applications of generative AI. As the technology continues to evolve, we can expect to see even more innovative uses across various industries and domains.\n"
     ]
    }
   ],
   "source": [
    "import ollama\n",
    "\n",
    "response = ollama.chat(model=MODEL, messages=messages)\n",
    "print(response['message']['content'])"
   ]
  },
  {
   "cell_type": "markdown",
   "id": "1622d9bb-5c68-4d4e-9ca4-b492c751f898",
   "metadata": {},
   "source": [
    "# NOW the exercise for you\n",
    "\n",
    "Take the code from day1 and incorporate it here, to build a website summarizer that uses Llama 3.2 running locally instead of OpenAI"
   ]
  }
 ],
 "metadata": {
  "kernelspec": {
   "display_name": "Python 3 (ipykernel)",
   "language": "python",
   "name": "python3"
  },
  "language_info": {
   "codemirror_mode": {
    "name": "ipython",
    "version": 3
   },
   "file_extension": ".py",
   "mimetype": "text/x-python",
   "name": "python",
   "nbconvert_exporter": "python",
   "pygments_lexer": "ipython3",
   "version": "3.12.7"
  }
 },
 "nbformat": 4,
 "nbformat_minor": 5
}
